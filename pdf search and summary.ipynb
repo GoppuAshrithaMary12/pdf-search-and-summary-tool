{
 "cells": [
  {
   "cell_type": "code",
   "execution_count": 1,
   "id": "d5224819-1bd0-4094-b6e1-68bbfbea0d7a",
   "metadata": {},
   "outputs": [
    {
     "name": "stdout",
     "output_type": "stream",
     "text": [
      "\n",
      "✅ Summary file saved as: description.csv\n"
     ]
    }
   ],
   "source": [
    "import os\n",
    "import pdfplumber\n",
    "import csv\n",
    "import re\n",
    "\n",
    "def extract_full_text(pdf_path):\n",
    "    text = \"\"\n",
    "    with pdfplumber.open(pdf_path) as pdf:\n",
    "        for page in pdf.pages:\n",
    "            page_text = page.extract_text()\n",
    "            if page_text:\n",
    "                text += page_text + \"\\n\"\n",
    "    return text\n",
    "\n",
    "def create_summary(text, keyword, max_sentences=5):\n",
    "    keyword_lower = keyword.lower()\n",
    "    sentences = re.split(r'(?<=[.!?]) +', text)\n",
    "    relevant_sentences = [s.strip() for s in sentences if keyword_lower in s.lower()]\n",
    "    \n",
    "    # Basic summarization: just return the first few sentences\n",
    "    if relevant_sentences:\n",
    "        return \" \".join(relevant_sentences[:max_sentences])\n",
    "    else:\n",
    "        return \"\"\n",
    "\n",
    "def scan_pdfs_and_summarize(folder_path, keyword, output_file=\"description.csv\"):\n",
    "    summary_data = []\n",
    "\n",
    "    for filename in os.listdir(folder_path):\n",
    "        if filename.lower().endswith(\".pdf\"):\n",
    "            pdf_path = os.path.join(folder_path, filename)\n",
    "            full_text = extract_full_text(pdf_path)\n",
    "\n",
    "            if keyword.lower() in full_text.lower():\n",
    "                summary = create_summary(full_text, keyword)\n",
    "                count = full_text.lower().count(keyword.lower())\n",
    "                summary_data.append([filename, count, summary])\n",
    "\n",
    "    # Save results\n",
    "    with open(output_file, mode='w', newline='', encoding='utf-8') as f:\n",
    "        writer = csv.writer(f)\n",
    "        writer.writerow(['Filename', 'Keyword Count', 'Summary'])\n",
    "        writer.writerows(summary_data)\n",
    "\n",
    "    print(f\"\\n✅ Summary file saved as: {output_file}\")\n",
    "\n",
    "# 👇 Run with predefined folder and keyword\n",
    "if __name__ == \"__main__\":\n",
    "    folder = r\"C:\\Users\\Ashritha Gopu\\OneDrive\\Desktop\\movie\"      # Change this to your folder path\n",
    "    keyword = \"geetha govindam\"           # Change this to your search term\n",
    "\n",
    "    if not os.path.isdir(folder):\n",
    "        print(\"❌ Invalid folder path!\")\n",
    "    else:\n",
    "        scan_pdfs_and_summarize(folder, keyword)\n"
   ]
  },
  {
   "cell_type": "code",
   "execution_count": null,
   "id": "5832952d-af3f-41c2-8443-35a9d21f5178",
   "metadata": {},
   "outputs": [],
   "source": []
  }
 ],
 "metadata": {
  "kernelspec": {
   "display_name": "Python 3 (ipykernel)",
   "language": "python",
   "name": "python3"
  },
  "language_info": {
   "codemirror_mode": {
    "name": "ipython",
    "version": 3
   },
   "file_extension": ".py",
   "mimetype": "text/x-python",
   "name": "python",
   "nbconvert_exporter": "python",
   "pygments_lexer": "ipython3",
   "version": "3.12.4"
  }
 },
 "nbformat": 4,
 "nbformat_minor": 5
}
